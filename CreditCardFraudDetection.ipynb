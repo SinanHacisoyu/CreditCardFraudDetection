{
 "cells": [
  {
   "cell_type": "markdown",
   "id": "226cee66",
   "metadata": {},
   "source": [
    "Sinan Hacısoyu - Ecem Naz Kaya"
   ]
  },
  {
   "cell_type": "markdown",
   "id": "f9629479",
   "metadata": {},
   "source": [
    "Credit Card Fraud Detection\n",
    "Performing CNN on the Credit Card Dataset, in order to determine if the transactions are fraud or not.\n",
    "Library Used: TensorFlow, Sklearn, Keras"
   ]
  },
  {
   "cell_type": "code",
   "execution_count": 1,
   "id": "e235cc17",
   "metadata": {},
   "outputs": [],
   "source": [
    "# Importing necessary libraries\n",
    "import tensorflow as tf\n",
    "from tensorflow import keras\n",
    "from keras import Sequential\n",
    "from tensorflow.keras.optimizers import Adam\n",
    "from keras.layers import Conv1D, MaxPool1D\n",
    "from keras.layers import Flatten, Dense, Dropout, BatchNormalization\n",
    "\n",
    "import pandas as pd\n",
    "import numpy as np\n",
    "import seaborn as sns\n",
    "import matplotlib.pyplot as plt \n",
    "from sklearn.model_selection import train_test_split\n",
    "from sklearn.preprocessing import StandardScaler\n",
    "from sklearn.metrics import confusion_matrix,accuracy_score"
   ]
  },
  {
   "cell_type": "code",
   "execution_count": 2,
   "id": "5058bcd5",
   "metadata": {
    "scrolled": false
   },
   "outputs": [
    {
     "data": {
      "text/html": [
       "<div>\n",
       "<style scoped>\n",
       "    .dataframe tbody tr th:only-of-type {\n",
       "        vertical-align: middle;\n",
       "    }\n",
       "\n",
       "    .dataframe tbody tr th {\n",
       "        vertical-align: top;\n",
       "    }\n",
       "\n",
       "    .dataframe thead th {\n",
       "        text-align: right;\n",
       "    }\n",
       "</style>\n",
       "<table border=\"1\" class=\"dataframe\">\n",
       "  <thead>\n",
       "    <tr style=\"text-align: right;\">\n",
       "      <th></th>\n",
       "      <th>Time</th>\n",
       "      <th>V1</th>\n",
       "      <th>V2</th>\n",
       "      <th>V3</th>\n",
       "      <th>V4</th>\n",
       "      <th>V5</th>\n",
       "      <th>V6</th>\n",
       "      <th>V7</th>\n",
       "      <th>V8</th>\n",
       "      <th>V9</th>\n",
       "      <th>...</th>\n",
       "      <th>V21</th>\n",
       "      <th>V22</th>\n",
       "      <th>V23</th>\n",
       "      <th>V24</th>\n",
       "      <th>V25</th>\n",
       "      <th>V26</th>\n",
       "      <th>V27</th>\n",
       "      <th>V28</th>\n",
       "      <th>Amount</th>\n",
       "      <th>Class</th>\n",
       "    </tr>\n",
       "  </thead>\n",
       "  <tbody>\n",
       "    <tr>\n",
       "      <th>0</th>\n",
       "      <td>0.0</td>\n",
       "      <td>-1.359807</td>\n",
       "      <td>-0.072781</td>\n",
       "      <td>2.536347</td>\n",
       "      <td>1.378155</td>\n",
       "      <td>-0.338321</td>\n",
       "      <td>0.462388</td>\n",
       "      <td>0.239599</td>\n",
       "      <td>0.098698</td>\n",
       "      <td>0.363787</td>\n",
       "      <td>...</td>\n",
       "      <td>-0.018307</td>\n",
       "      <td>0.277838</td>\n",
       "      <td>-0.110474</td>\n",
       "      <td>0.066928</td>\n",
       "      <td>0.128539</td>\n",
       "      <td>-0.189115</td>\n",
       "      <td>0.133558</td>\n",
       "      <td>-0.021053</td>\n",
       "      <td>149.62</td>\n",
       "      <td>0</td>\n",
       "    </tr>\n",
       "    <tr>\n",
       "      <th>1</th>\n",
       "      <td>0.0</td>\n",
       "      <td>1.191857</td>\n",
       "      <td>0.266151</td>\n",
       "      <td>0.166480</td>\n",
       "      <td>0.448154</td>\n",
       "      <td>0.060018</td>\n",
       "      <td>-0.082361</td>\n",
       "      <td>-0.078803</td>\n",
       "      <td>0.085102</td>\n",
       "      <td>-0.255425</td>\n",
       "      <td>...</td>\n",
       "      <td>-0.225775</td>\n",
       "      <td>-0.638672</td>\n",
       "      <td>0.101288</td>\n",
       "      <td>-0.339846</td>\n",
       "      <td>0.167170</td>\n",
       "      <td>0.125895</td>\n",
       "      <td>-0.008983</td>\n",
       "      <td>0.014724</td>\n",
       "      <td>2.69</td>\n",
       "      <td>0</td>\n",
       "    </tr>\n",
       "    <tr>\n",
       "      <th>2</th>\n",
       "      <td>1.0</td>\n",
       "      <td>-1.358354</td>\n",
       "      <td>-1.340163</td>\n",
       "      <td>1.773209</td>\n",
       "      <td>0.379780</td>\n",
       "      <td>-0.503198</td>\n",
       "      <td>1.800499</td>\n",
       "      <td>0.791461</td>\n",
       "      <td>0.247676</td>\n",
       "      <td>-1.514654</td>\n",
       "      <td>...</td>\n",
       "      <td>0.247998</td>\n",
       "      <td>0.771679</td>\n",
       "      <td>0.909412</td>\n",
       "      <td>-0.689281</td>\n",
       "      <td>-0.327642</td>\n",
       "      <td>-0.139097</td>\n",
       "      <td>-0.055353</td>\n",
       "      <td>-0.059752</td>\n",
       "      <td>378.66</td>\n",
       "      <td>0</td>\n",
       "    </tr>\n",
       "    <tr>\n",
       "      <th>3</th>\n",
       "      <td>1.0</td>\n",
       "      <td>-0.966272</td>\n",
       "      <td>-0.185226</td>\n",
       "      <td>1.792993</td>\n",
       "      <td>-0.863291</td>\n",
       "      <td>-0.010309</td>\n",
       "      <td>1.247203</td>\n",
       "      <td>0.237609</td>\n",
       "      <td>0.377436</td>\n",
       "      <td>-1.387024</td>\n",
       "      <td>...</td>\n",
       "      <td>-0.108300</td>\n",
       "      <td>0.005274</td>\n",
       "      <td>-0.190321</td>\n",
       "      <td>-1.175575</td>\n",
       "      <td>0.647376</td>\n",
       "      <td>-0.221929</td>\n",
       "      <td>0.062723</td>\n",
       "      <td>0.061458</td>\n",
       "      <td>123.50</td>\n",
       "      <td>0</td>\n",
       "    </tr>\n",
       "    <tr>\n",
       "      <th>4</th>\n",
       "      <td>2.0</td>\n",
       "      <td>-1.158233</td>\n",
       "      <td>0.877737</td>\n",
       "      <td>1.548718</td>\n",
       "      <td>0.403034</td>\n",
       "      <td>-0.407193</td>\n",
       "      <td>0.095921</td>\n",
       "      <td>0.592941</td>\n",
       "      <td>-0.270533</td>\n",
       "      <td>0.817739</td>\n",
       "      <td>...</td>\n",
       "      <td>-0.009431</td>\n",
       "      <td>0.798278</td>\n",
       "      <td>-0.137458</td>\n",
       "      <td>0.141267</td>\n",
       "      <td>-0.206010</td>\n",
       "      <td>0.502292</td>\n",
       "      <td>0.219422</td>\n",
       "      <td>0.215153</td>\n",
       "      <td>69.99</td>\n",
       "      <td>0</td>\n",
       "    </tr>\n",
       "  </tbody>\n",
       "</table>\n",
       "<p>5 rows × 31 columns</p>\n",
       "</div>"
      ],
      "text/plain": [
       "   Time        V1        V2        V3        V4        V5        V6        V7  \\\n",
       "0   0.0 -1.359807 -0.072781  2.536347  1.378155 -0.338321  0.462388  0.239599   \n",
       "1   0.0  1.191857  0.266151  0.166480  0.448154  0.060018 -0.082361 -0.078803   \n",
       "2   1.0 -1.358354 -1.340163  1.773209  0.379780 -0.503198  1.800499  0.791461   \n",
       "3   1.0 -0.966272 -0.185226  1.792993 -0.863291 -0.010309  1.247203  0.237609   \n",
       "4   2.0 -1.158233  0.877737  1.548718  0.403034 -0.407193  0.095921  0.592941   \n",
       "\n",
       "         V8        V9  ...       V21       V22       V23       V24       V25  \\\n",
       "0  0.098698  0.363787  ... -0.018307  0.277838 -0.110474  0.066928  0.128539   \n",
       "1  0.085102 -0.255425  ... -0.225775 -0.638672  0.101288 -0.339846  0.167170   \n",
       "2  0.247676 -1.514654  ...  0.247998  0.771679  0.909412 -0.689281 -0.327642   \n",
       "3  0.377436 -1.387024  ... -0.108300  0.005274 -0.190321 -1.175575  0.647376   \n",
       "4 -0.270533  0.817739  ... -0.009431  0.798278 -0.137458  0.141267 -0.206010   \n",
       "\n",
       "        V26       V27       V28  Amount  Class  \n",
       "0 -0.189115  0.133558 -0.021053  149.62      0  \n",
       "1  0.125895 -0.008983  0.014724    2.69      0  \n",
       "2 -0.139097 -0.055353 -0.059752  378.66      0  \n",
       "3 -0.221929  0.062723  0.061458  123.50      0  \n",
       "4  0.502292  0.219422  0.215153   69.99      0  \n",
       "\n",
       "[5 rows x 31 columns]"
      ]
     },
     "execution_count": 2,
     "metadata": {},
     "output_type": "execute_result"
    }
   ],
   "source": [
    "# Import the dataset\n",
    "data=pd.read_csv('C:/Users/User/Desktop/archive4.zip')\n",
    "data.head()"
   ]
  },
  {
   "cell_type": "code",
   "execution_count": 3,
   "id": "d3b0f38a",
   "metadata": {
    "scrolled": true
   },
   "outputs": [
    {
     "data": {
      "text/plain": [
       "Time      float64\n",
       "V1        float64\n",
       "V2        float64\n",
       "V3        float64\n",
       "V4        float64\n",
       "V5        float64\n",
       "V6        float64\n",
       "V7        float64\n",
       "V8        float64\n",
       "V9        float64\n",
       "V10       float64\n",
       "V11       float64\n",
       "V12       float64\n",
       "V13       float64\n",
       "V14       float64\n",
       "V15       float64\n",
       "V16       float64\n",
       "V17       float64\n",
       "V18       float64\n",
       "V19       float64\n",
       "V20       float64\n",
       "V21       float64\n",
       "V22       float64\n",
       "V23       float64\n",
       "V24       float64\n",
       "V25       float64\n",
       "V26       float64\n",
       "V27       float64\n",
       "V28       float64\n",
       "Amount    float64\n",
       "Class       int64\n",
       "dtype: object"
      ]
     },
     "execution_count": 3,
     "metadata": {},
     "output_type": "execute_result"
    }
   ],
   "source": [
    "#To determine the Data types of the features\n",
    "data.dtypes"
   ]
  },
  {
   "cell_type": "code",
   "execution_count": 4,
   "id": "3c41f7d2",
   "metadata": {},
   "outputs": [
    {
     "data": {
      "text/plain": [
       "(284807, 31)"
      ]
     },
     "execution_count": 4,
     "metadata": {},
     "output_type": "execute_result"
    }
   ],
   "source": [
    "# Check the shape of the dataset\n",
    "data.shape\n",
    "# There are 31 columns here, and the final column contains the Class target variable."
   ]
  },
  {
   "cell_type": "code",
   "execution_count": 5,
   "id": "5fadfc2a",
   "metadata": {},
   "outputs": [
    {
     "data": {
      "text/plain": [
       "Time      0\n",
       "V1        0\n",
       "V2        0\n",
       "V3        0\n",
       "V4        0\n",
       "V5        0\n",
       "V6        0\n",
       "V7        0\n",
       "V8        0\n",
       "V9        0\n",
       "V10       0\n",
       "V11       0\n",
       "V12       0\n",
       "V13       0\n",
       "V14       0\n",
       "V15       0\n",
       "V16       0\n",
       "V17       0\n",
       "V18       0\n",
       "V19       0\n",
       "V20       0\n",
       "V21       0\n",
       "V22       0\n",
       "V23       0\n",
       "V24       0\n",
       "V25       0\n",
       "V26       0\n",
       "V27       0\n",
       "V28       0\n",
       "Amount    0\n",
       "Class     0\n",
       "dtype: int64"
      ]
     },
     "execution_count": 5,
     "metadata": {},
     "output_type": "execute_result"
    }
   ],
   "source": [
    "# To determine if there is any null values present in the dataset\n",
    "data.isnull().sum()\n",
    "#Can be seen that there is no null value in the dataset"
   ]
  },
  {
   "cell_type": "code",
   "execution_count": 6,
   "id": "63dd47b2",
   "metadata": {
    "scrolled": false
   },
   "outputs": [
    {
     "name": "stdout",
     "output_type": "stream",
     "text": [
      "Time      172792.000000\n",
      "V1             2.454930\n",
      "V2            22.057729\n",
      "V3             9.382558\n",
      "V4            16.875344\n",
      "V5            34.801666\n",
      "V6            73.301626\n",
      "V7           120.589494\n",
      "V8            20.007208\n",
      "V9            15.594995\n",
      "V10           23.745136\n",
      "V11           12.018913\n",
      "V12            7.848392\n",
      "V13            7.126883\n",
      "V14           10.526766\n",
      "V15            8.877742\n",
      "V16           17.315112\n",
      "V17            9.253526\n",
      "V18            5.041069\n",
      "V19            5.591971\n",
      "V20           39.420904\n",
      "V21           27.202839\n",
      "V22           10.503090\n",
      "V23           22.528412\n",
      "V24            4.584549\n",
      "V25            7.519589\n",
      "V26            3.517346\n",
      "V27           31.612198\n",
      "V28           33.847808\n",
      "Amount     25691.160000\n",
      "Class          1.000000\n",
      "dtype: float64\n"
     ]
    }
   ],
   "source": [
    "# maximum values of dataframe\n",
    "print(data.max())"
   ]
  },
  {
   "cell_type": "code",
   "execution_count": 7,
   "id": "c4d33033",
   "metadata": {
    "scrolled": true
   },
   "outputs": [
    {
     "name": "stdout",
     "output_type": "stream",
     "text": [
      "Time        0.000000\n",
      "V1        -56.407510\n",
      "V2        -72.715728\n",
      "V3        -48.325589\n",
      "V4         -5.683171\n",
      "V5       -113.743307\n",
      "V6        -26.160506\n",
      "V7        -43.557242\n",
      "V8        -73.216718\n",
      "V9        -13.434066\n",
      "V10       -24.588262\n",
      "V11        -4.797473\n",
      "V12       -18.683715\n",
      "V13        -5.791881\n",
      "V14       -19.214325\n",
      "V15        -4.498945\n",
      "V16       -14.129855\n",
      "V17       -25.162799\n",
      "V18        -9.498746\n",
      "V19        -7.213527\n",
      "V20       -54.497720\n",
      "V21       -34.830382\n",
      "V22       -10.933144\n",
      "V23       -44.807735\n",
      "V24        -2.836627\n",
      "V25       -10.295397\n",
      "V26        -2.604551\n",
      "V27       -22.565679\n",
      "V28       -15.430084\n",
      "Amount      0.000000\n",
      "Class       0.000000\n",
      "dtype: float64\n"
     ]
    }
   ],
   "source": [
    "# minimum values of dataframe\n",
    "print(data.min())"
   ]
  },
  {
   "cell_type": "code",
   "execution_count": 8,
   "id": "ac727a1d",
   "metadata": {
    "scrolled": true
   },
   "outputs": [
    {
     "data": {
      "text/html": [
       "<div>\n",
       "<style scoped>\n",
       "    .dataframe tbody tr th:only-of-type {\n",
       "        vertical-align: middle;\n",
       "    }\n",
       "\n",
       "    .dataframe tbody tr th {\n",
       "        vertical-align: top;\n",
       "    }\n",
       "\n",
       "    .dataframe thead th {\n",
       "        text-align: right;\n",
       "    }\n",
       "</style>\n",
       "<table border=\"1\" class=\"dataframe\">\n",
       "  <thead>\n",
       "    <tr style=\"text-align: right;\">\n",
       "      <th></th>\n",
       "      <th>Time</th>\n",
       "      <th>V1</th>\n",
       "      <th>V2</th>\n",
       "      <th>V3</th>\n",
       "      <th>V4</th>\n",
       "      <th>V5</th>\n",
       "      <th>V6</th>\n",
       "      <th>V7</th>\n",
       "      <th>V8</th>\n",
       "      <th>V9</th>\n",
       "      <th>...</th>\n",
       "      <th>V21</th>\n",
       "      <th>V22</th>\n",
       "      <th>V23</th>\n",
       "      <th>V24</th>\n",
       "      <th>V25</th>\n",
       "      <th>V26</th>\n",
       "      <th>V27</th>\n",
       "      <th>V28</th>\n",
       "      <th>Amount</th>\n",
       "      <th>Class</th>\n",
       "    </tr>\n",
       "  </thead>\n",
       "  <tbody>\n",
       "    <tr>\n",
       "      <th>count</th>\n",
       "      <td>284807.000000</td>\n",
       "      <td>2.848070e+05</td>\n",
       "      <td>2.848070e+05</td>\n",
       "      <td>2.848070e+05</td>\n",
       "      <td>2.848070e+05</td>\n",
       "      <td>2.848070e+05</td>\n",
       "      <td>2.848070e+05</td>\n",
       "      <td>2.848070e+05</td>\n",
       "      <td>2.848070e+05</td>\n",
       "      <td>2.848070e+05</td>\n",
       "      <td>...</td>\n",
       "      <td>2.848070e+05</td>\n",
       "      <td>2.848070e+05</td>\n",
       "      <td>2.848070e+05</td>\n",
       "      <td>2.848070e+05</td>\n",
       "      <td>2.848070e+05</td>\n",
       "      <td>2.848070e+05</td>\n",
       "      <td>2.848070e+05</td>\n",
       "      <td>2.848070e+05</td>\n",
       "      <td>284807.000000</td>\n",
       "      <td>284807.000000</td>\n",
       "    </tr>\n",
       "    <tr>\n",
       "      <th>mean</th>\n",
       "      <td>94813.859575</td>\n",
       "      <td>3.918649e-15</td>\n",
       "      <td>5.682686e-16</td>\n",
       "      <td>-8.761736e-15</td>\n",
       "      <td>2.811118e-15</td>\n",
       "      <td>-1.552103e-15</td>\n",
       "      <td>2.040130e-15</td>\n",
       "      <td>-1.698953e-15</td>\n",
       "      <td>-1.893285e-16</td>\n",
       "      <td>-3.147640e-15</td>\n",
       "      <td>...</td>\n",
       "      <td>1.473120e-16</td>\n",
       "      <td>8.042109e-16</td>\n",
       "      <td>5.282512e-16</td>\n",
       "      <td>4.456271e-15</td>\n",
       "      <td>1.426896e-15</td>\n",
       "      <td>1.701640e-15</td>\n",
       "      <td>-3.662252e-16</td>\n",
       "      <td>-1.217809e-16</td>\n",
       "      <td>88.349619</td>\n",
       "      <td>0.001727</td>\n",
       "    </tr>\n",
       "    <tr>\n",
       "      <th>std</th>\n",
       "      <td>47488.145955</td>\n",
       "      <td>1.958696e+00</td>\n",
       "      <td>1.651309e+00</td>\n",
       "      <td>1.516255e+00</td>\n",
       "      <td>1.415869e+00</td>\n",
       "      <td>1.380247e+00</td>\n",
       "      <td>1.332271e+00</td>\n",
       "      <td>1.237094e+00</td>\n",
       "      <td>1.194353e+00</td>\n",
       "      <td>1.098632e+00</td>\n",
       "      <td>...</td>\n",
       "      <td>7.345240e-01</td>\n",
       "      <td>7.257016e-01</td>\n",
       "      <td>6.244603e-01</td>\n",
       "      <td>6.056471e-01</td>\n",
       "      <td>5.212781e-01</td>\n",
       "      <td>4.822270e-01</td>\n",
       "      <td>4.036325e-01</td>\n",
       "      <td>3.300833e-01</td>\n",
       "      <td>250.120109</td>\n",
       "      <td>0.041527</td>\n",
       "    </tr>\n",
       "    <tr>\n",
       "      <th>min</th>\n",
       "      <td>0.000000</td>\n",
       "      <td>-5.640751e+01</td>\n",
       "      <td>-7.271573e+01</td>\n",
       "      <td>-4.832559e+01</td>\n",
       "      <td>-5.683171e+00</td>\n",
       "      <td>-1.137433e+02</td>\n",
       "      <td>-2.616051e+01</td>\n",
       "      <td>-4.355724e+01</td>\n",
       "      <td>-7.321672e+01</td>\n",
       "      <td>-1.343407e+01</td>\n",
       "      <td>...</td>\n",
       "      <td>-3.483038e+01</td>\n",
       "      <td>-1.093314e+01</td>\n",
       "      <td>-4.480774e+01</td>\n",
       "      <td>-2.836627e+00</td>\n",
       "      <td>-1.029540e+01</td>\n",
       "      <td>-2.604551e+00</td>\n",
       "      <td>-2.256568e+01</td>\n",
       "      <td>-1.543008e+01</td>\n",
       "      <td>0.000000</td>\n",
       "      <td>0.000000</td>\n",
       "    </tr>\n",
       "    <tr>\n",
       "      <th>25%</th>\n",
       "      <td>54201.500000</td>\n",
       "      <td>-9.203734e-01</td>\n",
       "      <td>-5.985499e-01</td>\n",
       "      <td>-8.903648e-01</td>\n",
       "      <td>-8.486401e-01</td>\n",
       "      <td>-6.915971e-01</td>\n",
       "      <td>-7.682956e-01</td>\n",
       "      <td>-5.540759e-01</td>\n",
       "      <td>-2.086297e-01</td>\n",
       "      <td>-6.430976e-01</td>\n",
       "      <td>...</td>\n",
       "      <td>-2.283949e-01</td>\n",
       "      <td>-5.423504e-01</td>\n",
       "      <td>-1.618463e-01</td>\n",
       "      <td>-3.545861e-01</td>\n",
       "      <td>-3.171451e-01</td>\n",
       "      <td>-3.269839e-01</td>\n",
       "      <td>-7.083953e-02</td>\n",
       "      <td>-5.295979e-02</td>\n",
       "      <td>5.600000</td>\n",
       "      <td>0.000000</td>\n",
       "    </tr>\n",
       "    <tr>\n",
       "      <th>50%</th>\n",
       "      <td>84692.000000</td>\n",
       "      <td>1.810880e-02</td>\n",
       "      <td>6.548556e-02</td>\n",
       "      <td>1.798463e-01</td>\n",
       "      <td>-1.984653e-02</td>\n",
       "      <td>-5.433583e-02</td>\n",
       "      <td>-2.741871e-01</td>\n",
       "      <td>4.010308e-02</td>\n",
       "      <td>2.235804e-02</td>\n",
       "      <td>-5.142873e-02</td>\n",
       "      <td>...</td>\n",
       "      <td>-2.945017e-02</td>\n",
       "      <td>6.781943e-03</td>\n",
       "      <td>-1.119293e-02</td>\n",
       "      <td>4.097606e-02</td>\n",
       "      <td>1.659350e-02</td>\n",
       "      <td>-5.213911e-02</td>\n",
       "      <td>1.342146e-03</td>\n",
       "      <td>1.124383e-02</td>\n",
       "      <td>22.000000</td>\n",
       "      <td>0.000000</td>\n",
       "    </tr>\n",
       "    <tr>\n",
       "      <th>75%</th>\n",
       "      <td>139320.500000</td>\n",
       "      <td>1.315642e+00</td>\n",
       "      <td>8.037239e-01</td>\n",
       "      <td>1.027196e+00</td>\n",
       "      <td>7.433413e-01</td>\n",
       "      <td>6.119264e-01</td>\n",
       "      <td>3.985649e-01</td>\n",
       "      <td>5.704361e-01</td>\n",
       "      <td>3.273459e-01</td>\n",
       "      <td>5.971390e-01</td>\n",
       "      <td>...</td>\n",
       "      <td>1.863772e-01</td>\n",
       "      <td>5.285536e-01</td>\n",
       "      <td>1.476421e-01</td>\n",
       "      <td>4.395266e-01</td>\n",
       "      <td>3.507156e-01</td>\n",
       "      <td>2.409522e-01</td>\n",
       "      <td>9.104512e-02</td>\n",
       "      <td>7.827995e-02</td>\n",
       "      <td>77.165000</td>\n",
       "      <td>0.000000</td>\n",
       "    </tr>\n",
       "    <tr>\n",
       "      <th>max</th>\n",
       "      <td>172792.000000</td>\n",
       "      <td>2.454930e+00</td>\n",
       "      <td>2.205773e+01</td>\n",
       "      <td>9.382558e+00</td>\n",
       "      <td>1.687534e+01</td>\n",
       "      <td>3.480167e+01</td>\n",
       "      <td>7.330163e+01</td>\n",
       "      <td>1.205895e+02</td>\n",
       "      <td>2.000721e+01</td>\n",
       "      <td>1.559499e+01</td>\n",
       "      <td>...</td>\n",
       "      <td>2.720284e+01</td>\n",
       "      <td>1.050309e+01</td>\n",
       "      <td>2.252841e+01</td>\n",
       "      <td>4.584549e+00</td>\n",
       "      <td>7.519589e+00</td>\n",
       "      <td>3.517346e+00</td>\n",
       "      <td>3.161220e+01</td>\n",
       "      <td>3.384781e+01</td>\n",
       "      <td>25691.160000</td>\n",
       "      <td>1.000000</td>\n",
       "    </tr>\n",
       "  </tbody>\n",
       "</table>\n",
       "<p>8 rows × 31 columns</p>\n",
       "</div>"
      ],
      "text/plain": [
       "                Time            V1            V2            V3            V4  \\\n",
       "count  284807.000000  2.848070e+05  2.848070e+05  2.848070e+05  2.848070e+05   \n",
       "mean    94813.859575  3.918649e-15  5.682686e-16 -8.761736e-15  2.811118e-15   \n",
       "std     47488.145955  1.958696e+00  1.651309e+00  1.516255e+00  1.415869e+00   \n",
       "min         0.000000 -5.640751e+01 -7.271573e+01 -4.832559e+01 -5.683171e+00   \n",
       "25%     54201.500000 -9.203734e-01 -5.985499e-01 -8.903648e-01 -8.486401e-01   \n",
       "50%     84692.000000  1.810880e-02  6.548556e-02  1.798463e-01 -1.984653e-02   \n",
       "75%    139320.500000  1.315642e+00  8.037239e-01  1.027196e+00  7.433413e-01   \n",
       "max    172792.000000  2.454930e+00  2.205773e+01  9.382558e+00  1.687534e+01   \n",
       "\n",
       "                 V5            V6            V7            V8            V9  \\\n",
       "count  2.848070e+05  2.848070e+05  2.848070e+05  2.848070e+05  2.848070e+05   \n",
       "mean  -1.552103e-15  2.040130e-15 -1.698953e-15 -1.893285e-16 -3.147640e-15   \n",
       "std    1.380247e+00  1.332271e+00  1.237094e+00  1.194353e+00  1.098632e+00   \n",
       "min   -1.137433e+02 -2.616051e+01 -4.355724e+01 -7.321672e+01 -1.343407e+01   \n",
       "25%   -6.915971e-01 -7.682956e-01 -5.540759e-01 -2.086297e-01 -6.430976e-01   \n",
       "50%   -5.433583e-02 -2.741871e-01  4.010308e-02  2.235804e-02 -5.142873e-02   \n",
       "75%    6.119264e-01  3.985649e-01  5.704361e-01  3.273459e-01  5.971390e-01   \n",
       "max    3.480167e+01  7.330163e+01  1.205895e+02  2.000721e+01  1.559499e+01   \n",
       "\n",
       "       ...           V21           V22           V23           V24  \\\n",
       "count  ...  2.848070e+05  2.848070e+05  2.848070e+05  2.848070e+05   \n",
       "mean   ...  1.473120e-16  8.042109e-16  5.282512e-16  4.456271e-15   \n",
       "std    ...  7.345240e-01  7.257016e-01  6.244603e-01  6.056471e-01   \n",
       "min    ... -3.483038e+01 -1.093314e+01 -4.480774e+01 -2.836627e+00   \n",
       "25%    ... -2.283949e-01 -5.423504e-01 -1.618463e-01 -3.545861e-01   \n",
       "50%    ... -2.945017e-02  6.781943e-03 -1.119293e-02  4.097606e-02   \n",
       "75%    ...  1.863772e-01  5.285536e-01  1.476421e-01  4.395266e-01   \n",
       "max    ...  2.720284e+01  1.050309e+01  2.252841e+01  4.584549e+00   \n",
       "\n",
       "                V25           V26           V27           V28         Amount  \\\n",
       "count  2.848070e+05  2.848070e+05  2.848070e+05  2.848070e+05  284807.000000   \n",
       "mean   1.426896e-15  1.701640e-15 -3.662252e-16 -1.217809e-16      88.349619   \n",
       "std    5.212781e-01  4.822270e-01  4.036325e-01  3.300833e-01     250.120109   \n",
       "min   -1.029540e+01 -2.604551e+00 -2.256568e+01 -1.543008e+01       0.000000   \n",
       "25%   -3.171451e-01 -3.269839e-01 -7.083953e-02 -5.295979e-02       5.600000   \n",
       "50%    1.659350e-02 -5.213911e-02  1.342146e-03  1.124383e-02      22.000000   \n",
       "75%    3.507156e-01  2.409522e-01  9.104512e-02  7.827995e-02      77.165000   \n",
       "max    7.519589e+00  3.517346e+00  3.161220e+01  3.384781e+01   25691.160000   \n",
       "\n",
       "               Class  \n",
       "count  284807.000000  \n",
       "mean        0.001727  \n",
       "std         0.041527  \n",
       "min         0.000000  \n",
       "25%         0.000000  \n",
       "50%         0.000000  \n",
       "75%         0.000000  \n",
       "max         1.000000  \n",
       "\n",
       "[8 rows x 31 columns]"
      ]
     },
     "execution_count": 8,
     "metadata": {},
     "output_type": "execute_result"
    }
   ],
   "source": [
    "# To get all the details\n",
    "data.describe()"
   ]
  },
  {
   "cell_type": "code",
   "execution_count": 9,
   "id": "e593ca0a",
   "metadata": {},
   "outputs": [
    {
     "name": "stdout",
     "output_type": "stream",
     "text": [
      "<class 'pandas.core.frame.DataFrame'>\n",
      "RangeIndex: 284807 entries, 0 to 284806\n",
      "Data columns (total 31 columns):\n",
      " #   Column  Non-Null Count   Dtype  \n",
      "---  ------  --------------   -----  \n",
      " 0   Time    284807 non-null  float64\n",
      " 1   V1      284807 non-null  float64\n",
      " 2   V2      284807 non-null  float64\n",
      " 3   V3      284807 non-null  float64\n",
      " 4   V4      284807 non-null  float64\n",
      " 5   V5      284807 non-null  float64\n",
      " 6   V6      284807 non-null  float64\n",
      " 7   V7      284807 non-null  float64\n",
      " 8   V8      284807 non-null  float64\n",
      " 9   V9      284807 non-null  float64\n",
      " 10  V10     284807 non-null  float64\n",
      " 11  V11     284807 non-null  float64\n",
      " 12  V12     284807 non-null  float64\n",
      " 13  V13     284807 non-null  float64\n",
      " 14  V14     284807 non-null  float64\n",
      " 15  V15     284807 non-null  float64\n",
      " 16  V16     284807 non-null  float64\n",
      " 17  V17     284807 non-null  float64\n",
      " 18  V18     284807 non-null  float64\n",
      " 19  V19     284807 non-null  float64\n",
      " 20  V20     284807 non-null  float64\n",
      " 21  V21     284807 non-null  float64\n",
      " 22  V22     284807 non-null  float64\n",
      " 23  V23     284807 non-null  float64\n",
      " 24  V24     284807 non-null  float64\n",
      " 25  V25     284807 non-null  float64\n",
      " 26  V26     284807 non-null  float64\n",
      " 27  V27     284807 non-null  float64\n",
      " 28  V28     284807 non-null  float64\n",
      " 29  Amount  284807 non-null  float64\n",
      " 30  Class   284807 non-null  int64  \n",
      "dtypes: float64(30), int64(1)\n",
      "memory usage: 67.4 MB\n"
     ]
    }
   ],
   "source": [
    "#To get all the information about all the features\n",
    "data.info()\n",
    "#Can be determine by looking at the dataset and the information that our target column has values consisting 0 and 1."
   ]
  },
  {
   "cell_type": "code",
   "execution_count": 10,
   "id": "e679c828",
   "metadata": {},
   "outputs": [
    {
     "data": {
      "text/plain": [
       "0    284315\n",
       "1       492\n",
       "Name: Class, dtype: int64"
      ]
     },
     "execution_count": 10,
     "metadata": {},
     "output_type": "execute_result"
    }
   ],
   "source": [
    "# Determine the number of values in the \"class\" that have values of 0 or 1 that are present.\n",
    "data['Class'].value_counts()"
   ]
  },
  {
   "cell_type": "code",
   "execution_count": 11,
   "id": "ebb0a8d1",
   "metadata": {},
   "outputs": [],
   "source": [
    "# There are 284315 transactions \n",
    "# 492 transactions are fraud only.\n",
    "# Now, balancing the dataset."
   ]
  },
  {
   "cell_type": "code",
   "execution_count": 12,
   "id": "125cc76d",
   "metadata": {},
   "outputs": [
    {
     "data": {
      "text/plain": [
       "((284315, 31), (492, 31))"
      ]
     },
     "execution_count": 12,
     "metadata": {},
     "output_type": "execute_result"
    }
   ],
   "source": [
    "# Separating fraud and non-fraud rows\n",
    "nonFraudData = data[data['Class']==0]\n",
    "fraudData = data[data['Class']==1]\n",
    "\n",
    "nonFraudData.shape, fraudData.shape"
   ]
  },
  {
   "cell_type": "code",
   "execution_count": 13,
   "id": "af5bd3e5",
   "metadata": {},
   "outputs": [
    {
     "data": {
      "text/plain": [
       "(492, 31)"
      ]
     },
     "execution_count": 13,
     "metadata": {},
     "output_type": "execute_result"
    }
   ],
   "source": [
    "# Selecting the 492 non-fraud entries from the dataframe \n",
    "nonFraudDataSample = nonFraudData.sample(fraudData.shape[0])\n",
    "\n",
    "nonFraudDataSample.shape"
   ]
  },
  {
   "cell_type": "code",
   "execution_count": 14,
   "id": "e2a59ebe",
   "metadata": {},
   "outputs": [
    {
     "data": {
      "text/html": [
       "<div>\n",
       "<style scoped>\n",
       "    .dataframe tbody tr th:only-of-type {\n",
       "        vertical-align: middle;\n",
       "    }\n",
       "\n",
       "    .dataframe tbody tr th {\n",
       "        vertical-align: top;\n",
       "    }\n",
       "\n",
       "    .dataframe thead th {\n",
       "        text-align: right;\n",
       "    }\n",
       "</style>\n",
       "<table border=\"1\" class=\"dataframe\">\n",
       "  <thead>\n",
       "    <tr style=\"text-align: right;\">\n",
       "      <th></th>\n",
       "      <th>Time</th>\n",
       "      <th>V1</th>\n",
       "      <th>V2</th>\n",
       "      <th>V3</th>\n",
       "      <th>V4</th>\n",
       "      <th>V5</th>\n",
       "      <th>V6</th>\n",
       "      <th>V7</th>\n",
       "      <th>V8</th>\n",
       "      <th>V9</th>\n",
       "      <th>...</th>\n",
       "      <th>V21</th>\n",
       "      <th>V22</th>\n",
       "      <th>V23</th>\n",
       "      <th>V24</th>\n",
       "      <th>V25</th>\n",
       "      <th>V26</th>\n",
       "      <th>V27</th>\n",
       "      <th>V28</th>\n",
       "      <th>Amount</th>\n",
       "      <th>Class</th>\n",
       "    </tr>\n",
       "  </thead>\n",
       "  <tbody>\n",
       "    <tr>\n",
       "      <th>0</th>\n",
       "      <td>406.0</td>\n",
       "      <td>-2.312227</td>\n",
       "      <td>1.951992</td>\n",
       "      <td>-1.609851</td>\n",
       "      <td>3.997906</td>\n",
       "      <td>-0.522188</td>\n",
       "      <td>-1.426545</td>\n",
       "      <td>-2.537387</td>\n",
       "      <td>1.391657</td>\n",
       "      <td>-2.770089</td>\n",
       "      <td>...</td>\n",
       "      <td>0.517232</td>\n",
       "      <td>-0.035049</td>\n",
       "      <td>-0.465211</td>\n",
       "      <td>0.320198</td>\n",
       "      <td>0.044519</td>\n",
       "      <td>0.177840</td>\n",
       "      <td>0.261145</td>\n",
       "      <td>-0.143276</td>\n",
       "      <td>0.00</td>\n",
       "      <td>1</td>\n",
       "    </tr>\n",
       "    <tr>\n",
       "      <th>1</th>\n",
       "      <td>472.0</td>\n",
       "      <td>-3.043541</td>\n",
       "      <td>-3.157307</td>\n",
       "      <td>1.088463</td>\n",
       "      <td>2.288644</td>\n",
       "      <td>1.359805</td>\n",
       "      <td>-1.064823</td>\n",
       "      <td>0.325574</td>\n",
       "      <td>-0.067794</td>\n",
       "      <td>-0.270953</td>\n",
       "      <td>...</td>\n",
       "      <td>0.661696</td>\n",
       "      <td>0.435477</td>\n",
       "      <td>1.375966</td>\n",
       "      <td>-0.293803</td>\n",
       "      <td>0.279798</td>\n",
       "      <td>-0.145362</td>\n",
       "      <td>-0.252773</td>\n",
       "      <td>0.035764</td>\n",
       "      <td>529.00</td>\n",
       "      <td>1</td>\n",
       "    </tr>\n",
       "    <tr>\n",
       "      <th>2</th>\n",
       "      <td>4462.0</td>\n",
       "      <td>-2.303350</td>\n",
       "      <td>1.759247</td>\n",
       "      <td>-0.359745</td>\n",
       "      <td>2.330243</td>\n",
       "      <td>-0.821628</td>\n",
       "      <td>-0.075788</td>\n",
       "      <td>0.562320</td>\n",
       "      <td>-0.399147</td>\n",
       "      <td>-0.238253</td>\n",
       "      <td>...</td>\n",
       "      <td>-0.294166</td>\n",
       "      <td>-0.932391</td>\n",
       "      <td>0.172726</td>\n",
       "      <td>-0.087330</td>\n",
       "      <td>-0.156114</td>\n",
       "      <td>-0.542628</td>\n",
       "      <td>0.039566</td>\n",
       "      <td>-0.153029</td>\n",
       "      <td>239.93</td>\n",
       "      <td>1</td>\n",
       "    </tr>\n",
       "    <tr>\n",
       "      <th>3</th>\n",
       "      <td>6986.0</td>\n",
       "      <td>-4.397974</td>\n",
       "      <td>1.358367</td>\n",
       "      <td>-2.592844</td>\n",
       "      <td>2.679787</td>\n",
       "      <td>-1.128131</td>\n",
       "      <td>-1.706536</td>\n",
       "      <td>-3.496197</td>\n",
       "      <td>-0.248778</td>\n",
       "      <td>-0.247768</td>\n",
       "      <td>...</td>\n",
       "      <td>0.573574</td>\n",
       "      <td>0.176968</td>\n",
       "      <td>-0.436207</td>\n",
       "      <td>-0.053502</td>\n",
       "      <td>0.252405</td>\n",
       "      <td>-0.657488</td>\n",
       "      <td>-0.827136</td>\n",
       "      <td>0.849573</td>\n",
       "      <td>59.00</td>\n",
       "      <td>1</td>\n",
       "    </tr>\n",
       "    <tr>\n",
       "      <th>4</th>\n",
       "      <td>7519.0</td>\n",
       "      <td>1.234235</td>\n",
       "      <td>3.019740</td>\n",
       "      <td>-4.304597</td>\n",
       "      <td>4.732795</td>\n",
       "      <td>3.624201</td>\n",
       "      <td>-1.357746</td>\n",
       "      <td>1.713445</td>\n",
       "      <td>-0.496358</td>\n",
       "      <td>-1.282858</td>\n",
       "      <td>...</td>\n",
       "      <td>-0.379068</td>\n",
       "      <td>-0.704181</td>\n",
       "      <td>-0.656805</td>\n",
       "      <td>-1.632653</td>\n",
       "      <td>1.488901</td>\n",
       "      <td>0.566797</td>\n",
       "      <td>-0.010016</td>\n",
       "      <td>0.146793</td>\n",
       "      <td>1.00</td>\n",
       "      <td>1</td>\n",
       "    </tr>\n",
       "    <tr>\n",
       "      <th>...</th>\n",
       "      <td>...</td>\n",
       "      <td>...</td>\n",
       "      <td>...</td>\n",
       "      <td>...</td>\n",
       "      <td>...</td>\n",
       "      <td>...</td>\n",
       "      <td>...</td>\n",
       "      <td>...</td>\n",
       "      <td>...</td>\n",
       "      <td>...</td>\n",
       "      <td>...</td>\n",
       "      <td>...</td>\n",
       "      <td>...</td>\n",
       "      <td>...</td>\n",
       "      <td>...</td>\n",
       "      <td>...</td>\n",
       "      <td>...</td>\n",
       "      <td>...</td>\n",
       "      <td>...</td>\n",
       "      <td>...</td>\n",
       "      <td>...</td>\n",
       "    </tr>\n",
       "    <tr>\n",
       "      <th>979</th>\n",
       "      <td>35780.0</td>\n",
       "      <td>0.601217</td>\n",
       "      <td>-1.552637</td>\n",
       "      <td>0.666346</td>\n",
       "      <td>0.737544</td>\n",
       "      <td>-1.483936</td>\n",
       "      <td>0.356291</td>\n",
       "      <td>-0.562797</td>\n",
       "      <td>0.202282</td>\n",
       "      <td>-0.627725</td>\n",
       "      <td>...</td>\n",
       "      <td>0.026415</td>\n",
       "      <td>-0.021684</td>\n",
       "      <td>-0.270971</td>\n",
       "      <td>0.196028</td>\n",
       "      <td>0.253287</td>\n",
       "      <td>-0.252464</td>\n",
       "      <td>0.027461</td>\n",
       "      <td>0.074310</td>\n",
       "      <td>316.00</td>\n",
       "      <td>0</td>\n",
       "    </tr>\n",
       "    <tr>\n",
       "      <th>980</th>\n",
       "      <td>65424.0</td>\n",
       "      <td>1.257012</td>\n",
       "      <td>0.294862</td>\n",
       "      <td>0.286868</td>\n",
       "      <td>0.700011</td>\n",
       "      <td>-0.443873</td>\n",
       "      <td>-1.090430</td>\n",
       "      <td>0.028832</td>\n",
       "      <td>-0.155503</td>\n",
       "      <td>0.160503</td>\n",
       "      <td>...</td>\n",
       "      <td>-0.297946</td>\n",
       "      <td>-0.899653</td>\n",
       "      <td>0.139241</td>\n",
       "      <td>0.316719</td>\n",
       "      <td>0.188484</td>\n",
       "      <td>0.097623</td>\n",
       "      <td>-0.028494</td>\n",
       "      <td>0.028872</td>\n",
       "      <td>1.29</td>\n",
       "      <td>0</td>\n",
       "    </tr>\n",
       "    <tr>\n",
       "      <th>981</th>\n",
       "      <td>136145.0</td>\n",
       "      <td>2.085175</td>\n",
       "      <td>0.393051</td>\n",
       "      <td>-4.508201</td>\n",
       "      <td>-0.311771</td>\n",
       "      <td>3.510117</td>\n",
       "      <td>2.453299</td>\n",
       "      <td>0.220469</td>\n",
       "      <td>0.543377</td>\n",
       "      <td>-0.100434</td>\n",
       "      <td>...</td>\n",
       "      <td>-0.067217</td>\n",
       "      <td>-0.072642</td>\n",
       "      <td>-0.036584</td>\n",
       "      <td>0.529693</td>\n",
       "      <td>0.414685</td>\n",
       "      <td>0.735870</td>\n",
       "      <td>-0.058233</td>\n",
       "      <td>-0.026658</td>\n",
       "      <td>0.76</td>\n",
       "      <td>0</td>\n",
       "    </tr>\n",
       "    <tr>\n",
       "      <th>982</th>\n",
       "      <td>88092.0</td>\n",
       "      <td>-1.212663</td>\n",
       "      <td>-0.258274</td>\n",
       "      <td>-2.103799</td>\n",
       "      <td>-0.949071</td>\n",
       "      <td>1.234577</td>\n",
       "      <td>-0.777760</td>\n",
       "      <td>2.037516</td>\n",
       "      <td>0.044043</td>\n",
       "      <td>-1.023953</td>\n",
       "      <td>...</td>\n",
       "      <td>0.686640</td>\n",
       "      <td>1.187079</td>\n",
       "      <td>0.210361</td>\n",
       "      <td>0.247607</td>\n",
       "      <td>0.227609</td>\n",
       "      <td>0.258573</td>\n",
       "      <td>-0.101592</td>\n",
       "      <td>0.024689</td>\n",
       "      <td>278.82</td>\n",
       "      <td>0</td>\n",
       "    </tr>\n",
       "    <tr>\n",
       "      <th>983</th>\n",
       "      <td>167255.0</td>\n",
       "      <td>2.018766</td>\n",
       "      <td>0.150791</td>\n",
       "      <td>-1.599682</td>\n",
       "      <td>0.497901</td>\n",
       "      <td>0.083928</td>\n",
       "      <td>-1.331176</td>\n",
       "      <td>0.179708</td>\n",
       "      <td>-0.329349</td>\n",
       "      <td>0.922297</td>\n",
       "      <td>...</td>\n",
       "      <td>-0.245952</td>\n",
       "      <td>-0.407734</td>\n",
       "      <td>0.177270</td>\n",
       "      <td>-0.063665</td>\n",
       "      <td>-0.043556</td>\n",
       "      <td>-0.093381</td>\n",
       "      <td>-0.000688</td>\n",
       "      <td>-0.016457</td>\n",
       "      <td>10.20</td>\n",
       "      <td>0</td>\n",
       "    </tr>\n",
       "  </tbody>\n",
       "</table>\n",
       "<p>984 rows × 31 columns</p>\n",
       "</div>"
      ],
      "text/plain": [
       "         Time        V1        V2        V3        V4        V5        V6  \\\n",
       "0       406.0 -2.312227  1.951992 -1.609851  3.997906 -0.522188 -1.426545   \n",
       "1       472.0 -3.043541 -3.157307  1.088463  2.288644  1.359805 -1.064823   \n",
       "2      4462.0 -2.303350  1.759247 -0.359745  2.330243 -0.821628 -0.075788   \n",
       "3      6986.0 -4.397974  1.358367 -2.592844  2.679787 -1.128131 -1.706536   \n",
       "4      7519.0  1.234235  3.019740 -4.304597  4.732795  3.624201 -1.357746   \n",
       "..        ...       ...       ...       ...       ...       ...       ...   \n",
       "979   35780.0  0.601217 -1.552637  0.666346  0.737544 -1.483936  0.356291   \n",
       "980   65424.0  1.257012  0.294862  0.286868  0.700011 -0.443873 -1.090430   \n",
       "981  136145.0  2.085175  0.393051 -4.508201 -0.311771  3.510117  2.453299   \n",
       "982   88092.0 -1.212663 -0.258274 -2.103799 -0.949071  1.234577 -0.777760   \n",
       "983  167255.0  2.018766  0.150791 -1.599682  0.497901  0.083928 -1.331176   \n",
       "\n",
       "           V7        V8        V9  ...       V21       V22       V23  \\\n",
       "0   -2.537387  1.391657 -2.770089  ...  0.517232 -0.035049 -0.465211   \n",
       "1    0.325574 -0.067794 -0.270953  ...  0.661696  0.435477  1.375966   \n",
       "2    0.562320 -0.399147 -0.238253  ... -0.294166 -0.932391  0.172726   \n",
       "3   -3.496197 -0.248778 -0.247768  ...  0.573574  0.176968 -0.436207   \n",
       "4    1.713445 -0.496358 -1.282858  ... -0.379068 -0.704181 -0.656805   \n",
       "..        ...       ...       ...  ...       ...       ...       ...   \n",
       "979 -0.562797  0.202282 -0.627725  ...  0.026415 -0.021684 -0.270971   \n",
       "980  0.028832 -0.155503  0.160503  ... -0.297946 -0.899653  0.139241   \n",
       "981  0.220469  0.543377 -0.100434  ... -0.067217 -0.072642 -0.036584   \n",
       "982  2.037516  0.044043 -1.023953  ...  0.686640  1.187079  0.210361   \n",
       "983  0.179708 -0.329349  0.922297  ... -0.245952 -0.407734  0.177270   \n",
       "\n",
       "          V24       V25       V26       V27       V28  Amount  Class  \n",
       "0    0.320198  0.044519  0.177840  0.261145 -0.143276    0.00      1  \n",
       "1   -0.293803  0.279798 -0.145362 -0.252773  0.035764  529.00      1  \n",
       "2   -0.087330 -0.156114 -0.542628  0.039566 -0.153029  239.93      1  \n",
       "3   -0.053502  0.252405 -0.657488 -0.827136  0.849573   59.00      1  \n",
       "4   -1.632653  1.488901  0.566797 -0.010016  0.146793    1.00      1  \n",
       "..        ...       ...       ...       ...       ...     ...    ...  \n",
       "979  0.196028  0.253287 -0.252464  0.027461  0.074310  316.00      0  \n",
       "980  0.316719  0.188484  0.097623 -0.028494  0.028872    1.29      0  \n",
       "981  0.529693  0.414685  0.735870 -0.058233 -0.026658    0.76      0  \n",
       "982  0.247607  0.227609  0.258573 -0.101592  0.024689  278.82      0  \n",
       "983 -0.063665 -0.043556 -0.093381 -0.000688 -0.016457   10.20      0  \n",
       "\n",
       "[984 rows x 31 columns]"
      ]
     },
     "execution_count": 14,
     "metadata": {},
     "output_type": "execute_result"
    }
   ],
   "source": [
    "# Now there is balanced dataset: rows 492 fraud , 492 non-fraud\n",
    "balancedData = fraudData.append(nonFraudDataSample,ignore_index = True) \n",
    "balancedData"
   ]
  },
  {
   "cell_type": "code",
   "execution_count": 15,
   "id": "aee4b34b",
   "metadata": {
    "scrolled": false
   },
   "outputs": [
    {
     "data": {
      "text/plain": [
       "1    492\n",
       "0    492\n",
       "Name: Class, dtype: int64"
      ]
     },
     "execution_count": 15,
     "metadata": {},
     "output_type": "execute_result"
    }
   ],
   "source": [
    "# Now the data has been balanced and combined.\n",
    "# Check again the value counts\n",
    "balancedData['Class'].value_counts()"
   ]
  },
  {
   "cell_type": "code",
   "execution_count": 16,
   "id": "475b789d",
   "metadata": {},
   "outputs": [
    {
     "data": {
      "text/plain": [
       "((984, 30), (984,))"
      ]
     },
     "execution_count": 16,
     "metadata": {},
     "output_type": "execute_result"
    }
   ],
   "source": [
    "# now dividing the dataframe into dependent and independent varaible\n",
    "x=balancedData.drop(['Class'], axis=1)\n",
    "y=balancedData.Class\n",
    "\n",
    "# check the shape\n",
    "x.shape, y.shape"
   ]
  },
  {
   "cell_type": "code",
   "execution_count": 17,
   "id": "df9f901d",
   "metadata": {
    "scrolled": true
   },
   "outputs": [
    {
     "name": "stdout",
     "output_type": "stream",
     "text": [
      "(738, 30) (246, 30) (738,) (246,)\n"
     ]
    }
   ],
   "source": [
    "# Splitting in to Train and test dataset\n",
    "# x: the feature data.\n",
    "# y: the target data.\n",
    "# test_size: 25% of the data will be used for testing\n",
    "# Random number generator that is used to shuffle the data before splitting.\n",
    "xtrain, xtest, ytrain, ytest = train_test_split(x, y, test_size = 0.25, random_state = 42)\n",
    "\n",
    "# Check the shape again\n",
    "print(xtrain.shape,xtest.shape,ytrain.shape,ytest.shape)"
   ]
  },
  {
   "cell_type": "code",
   "execution_count": 18,
   "id": "6b6309d7",
   "metadata": {},
   "outputs": [],
   "source": [
    "# Scaler\n",
    "# to normalize the data\n",
    "sc=StandardScaler()\n",
    "xtrain=sc.fit_transform(xtrain)\n",
    "xtest=sc.fit_transform(xtest)"
   ]
  },
  {
   "cell_type": "code",
   "execution_count": 19,
   "id": "c9979721",
   "metadata": {},
   "outputs": [
    {
     "data": {
      "text/plain": [
       "((738, 30, 1), (246, 30, 1))"
      ]
     },
     "execution_count": 19,
     "metadata": {},
     "output_type": "execute_result"
    }
   ],
   "source": [
    "# Reshaping\n",
    "xtrain = xtrain.reshape(xtrain.shape[0],xtrain.shape[1],1)\n",
    "xtest = xtest.reshape(xtest.shape[0],xtest.shape[1],1)\n",
    "\n",
    "# Cheking the shape\n",
    "xtrain.shape, xtest.shape"
   ]
  },
  {
   "cell_type": "code",
   "execution_count": 20,
   "id": "bc74a6aa",
   "metadata": {},
   "outputs": [],
   "source": [
    "# ytrain, ytest are in series, converting into a numpy array\n",
    "ytrain=ytrain.to_numpy()\n",
    "ytest=ytest.to_numpy()"
   ]
  },
  {
   "cell_type": "markdown",
   "id": "2f43c663",
   "metadata": {},
   "source": [
    "Building the Model: Convolutional Neural Network"
   ]
  },
  {
   "cell_type": "code",
   "execution_count": 21,
   "id": "8dde48a9",
   "metadata": {},
   "outputs": [],
   "source": [
    "# Importing model\n",
    "model = Sequential()\n",
    "\n",
    "# layers:\n",
    "\n",
    "# 1) First\n",
    "# The model starts with adding a 1D convolutional layer with 32 filters,\n",
    "# kernel size of 2, a ReLU activation function, and input shape of the xtrain data.\n",
    "# It then applies batch normalization which normalize the activations of the previous layer at each batch.\n",
    "# The code then applies dropout with a rate of 0.2 to prevent overfitting.\n",
    "model.add(Conv1D(32, kernel_size=2, activation = 'relu',input_shape = xtrain[0].shape))\n",
    "model.add(BatchNormalization())\n",
    "model.add(Dropout(0.2))"
   ]
  },
  {
   "cell_type": "code",
   "execution_count": 22,
   "id": "98017285",
   "metadata": {},
   "outputs": [],
   "source": [
    "# 2) Second\n",
    "# The code then adds another 1D convolutional layer with 64 filters,\n",
    "# kernel size of 2, a ReLU activation function, and applies batch normalization and dropout \n",
    "# with a rate of 0.5 again to prevent overfitting.\n",
    "model.add(Conv1D(64, kernel_size=2, activation = 'relu'))\n",
    "model.add(BatchNormalization())\n",
    "model.add(Dropout(0.5)) "
   ]
  },
  {
   "cell_type": "code",
   "execution_count": 23,
   "id": "8b67d7e8",
   "metadata": {},
   "outputs": [],
   "source": [
    "# 3) building Artificial neural network (ANN)\n",
    "# Then the code flattens the output of the previous layer and add a dense layer with 64 units \n",
    "# and ReLU activation function, followed by dropout with a rate of 0.5 to prevent overfitting.\n",
    "model.add(Flatten())\n",
    "model.add(Dense(64, activation='relu'))\n",
    "model.add(Dropout(0.5))"
   ]
  },
  {
   "cell_type": "code",
   "execution_count": 24,
   "id": "56b3d4f9",
   "metadata": {},
   "outputs": [],
   "source": [
    "# 4) Last\n",
    "# The code adds the last dense layer with 1 unit and a sigmoid activation function.\n",
    "# This layer is used as the output layer, and the activation function (sigmoid) is used for binary classification problems.\n",
    "model.add(Dense(1,activation='sigmoid'))"
   ]
  },
  {
   "cell_type": "code",
   "execution_count": 25,
   "id": "fe04dfdd",
   "metadata": {},
   "outputs": [
    {
     "name": "stdout",
     "output_type": "stream",
     "text": [
      "Model: \"sequential\"\n",
      "_________________________________________________________________\n",
      " Layer (type)                Output Shape              Param #   \n",
      "=================================================================\n",
      " conv1d (Conv1D)             (None, 29, 32)            96        \n",
      "                                                                 \n",
      " batch_normalization (BatchN  (None, 29, 32)           128       \n",
      " ormalization)                                                   \n",
      "                                                                 \n",
      " dropout (Dropout)           (None, 29, 32)            0         \n",
      "                                                                 \n",
      " conv1d_1 (Conv1D)           (None, 28, 64)            4160      \n",
      "                                                                 \n",
      " batch_normalization_1 (Batc  (None, 28, 64)           256       \n",
      " hNormalization)                                                 \n",
      "                                                                 \n",
      " dropout_1 (Dropout)         (None, 28, 64)            0         \n",
      "                                                                 \n",
      " flatten (Flatten)           (None, 1792)              0         \n",
      "                                                                 \n",
      " dense (Dense)               (None, 64)                114752    \n",
      "                                                                 \n",
      " dropout_2 (Dropout)         (None, 64)                0         \n",
      "                                                                 \n",
      " dense_1 (Dense)             (None, 1)                 65        \n",
      "                                                                 \n",
      "=================================================================\n",
      "Total params: 119,457\n",
      "Trainable params: 119,265\n",
      "Non-trainable params: 192\n",
      "_________________________________________________________________\n"
     ]
    }
   ],
   "source": [
    "#It shows the layers of the model, the number of parameters in each layer, \n",
    "#the shape of the output of each layer, and the total number of parameters in the model.\n",
    "#This is useful for understanding the structure of the model and for debugging.\n",
    "model.summary()"
   ]
  },
  {
   "cell_type": "code",
   "execution_count": 26,
   "id": "9e5689a7",
   "metadata": {},
   "outputs": [],
   "source": [
    "# Compiling the model\n",
    "model.compile(optimizer = 'adam',loss = 'binary_crossentropy',metrics=['accuracy'])"
   ]
  },
  {
   "cell_type": "code",
   "execution_count": 27,
   "id": "6a94075f",
   "metadata": {
    "scrolled": false
   },
   "outputs": [
    {
     "name": "stdout",
     "output_type": "stream",
     "text": [
      "Epoch 1/40\n",
      "24/24 [==============================] - 1s 16ms/step - loss: 0.4792 - accuracy: 0.8564 - val_loss: 0.4803 - val_accuracy: 0.9146\n",
      "Epoch 2/40\n",
      "24/24 [==============================] - 0s 7ms/step - loss: 0.2502 - accuracy: 0.9255 - val_loss: 0.4245 - val_accuracy: 0.9146\n",
      "Epoch 3/40\n",
      "24/24 [==============================] - 0s 8ms/step - loss: 0.2084 - accuracy: 0.9282 - val_loss: 0.4266 - val_accuracy: 0.7764\n",
      "Epoch 4/40\n",
      "24/24 [==============================] - 0s 8ms/step - loss: 0.2063 - accuracy: 0.9255 - val_loss: 0.4553 - val_accuracy: 0.5935\n",
      "Epoch 5/40\n",
      "24/24 [==============================] - 0s 7ms/step - loss: 0.1728 - accuracy: 0.9309 - val_loss: 0.3599 - val_accuracy: 0.8821\n",
      "Epoch 6/40\n",
      "24/24 [==============================] - 0s 8ms/step - loss: 0.1885 - accuracy: 0.9431 - val_loss: 0.3707 - val_accuracy: 0.8171\n",
      "Epoch 7/40\n",
      "24/24 [==============================] - 0s 8ms/step - loss: 0.1404 - accuracy: 0.9472 - val_loss: 0.3939 - val_accuracy: 0.7805\n",
      "Epoch 8/40\n",
      "24/24 [==============================] - 0s 8ms/step - loss: 0.1476 - accuracy: 0.9458 - val_loss: 0.2999 - val_accuracy: 0.8902\n",
      "Epoch 9/40\n",
      "24/24 [==============================] - 0s 8ms/step - loss: 0.1697 - accuracy: 0.9295 - val_loss: 0.3075 - val_accuracy: 0.8618\n",
      "Epoch 10/40\n",
      "24/24 [==============================] - 0s 7ms/step - loss: 0.1474 - accuracy: 0.9499 - val_loss: 0.2347 - val_accuracy: 0.9106\n",
      "Epoch 11/40\n",
      "24/24 [==============================] - 0s 8ms/step - loss: 0.1233 - accuracy: 0.9580 - val_loss: 0.2468 - val_accuracy: 0.9024\n",
      "Epoch 12/40\n",
      "24/24 [==============================] - 0s 8ms/step - loss: 0.1493 - accuracy: 0.9499 - val_loss: 0.2098 - val_accuracy: 0.9228\n",
      "Epoch 13/40\n",
      "24/24 [==============================] - 0s 8ms/step - loss: 0.1214 - accuracy: 0.9593 - val_loss: 0.1737 - val_accuracy: 0.9350\n",
      "Epoch 14/40\n",
      "24/24 [==============================] - 0s 8ms/step - loss: 0.1210 - accuracy: 0.9580 - val_loss: 0.1595 - val_accuracy: 0.9309\n",
      "Epoch 15/40\n",
      "24/24 [==============================] - 0s 8ms/step - loss: 0.1190 - accuracy: 0.9539 - val_loss: 0.1886 - val_accuracy: 0.9228\n",
      "Epoch 16/40\n",
      "24/24 [==============================] - 0s 8ms/step - loss: 0.1114 - accuracy: 0.9593 - val_loss: 0.1593 - val_accuracy: 0.9268\n",
      "Epoch 17/40\n",
      "24/24 [==============================] - 0s 8ms/step - loss: 0.1082 - accuracy: 0.9648 - val_loss: 0.1636 - val_accuracy: 0.9309\n",
      "Epoch 18/40\n",
      "24/24 [==============================] - 0s 8ms/step - loss: 0.0987 - accuracy: 0.9607 - val_loss: 0.1575 - val_accuracy: 0.9309\n",
      "Epoch 19/40\n",
      "24/24 [==============================] - 0s 7ms/step - loss: 0.1242 - accuracy: 0.9553 - val_loss: 0.1506 - val_accuracy: 0.9350\n",
      "Epoch 20/40\n",
      "24/24 [==============================] - 0s 8ms/step - loss: 0.1132 - accuracy: 0.9580 - val_loss: 0.1486 - val_accuracy: 0.9309\n",
      "Epoch 21/40\n",
      "24/24 [==============================] - 0s 8ms/step - loss: 0.1054 - accuracy: 0.9607 - val_loss: 0.1468 - val_accuracy: 0.9350\n",
      "Epoch 22/40\n",
      "24/24 [==============================] - 0s 8ms/step - loss: 0.1072 - accuracy: 0.9566 - val_loss: 0.1486 - val_accuracy: 0.9350\n",
      "Epoch 23/40\n",
      "24/24 [==============================] - 0s 8ms/step - loss: 0.1250 - accuracy: 0.9634 - val_loss: 0.1526 - val_accuracy: 0.9350\n",
      "Epoch 24/40\n",
      "24/24 [==============================] - 0s 7ms/step - loss: 0.0963 - accuracy: 0.9675 - val_loss: 0.1422 - val_accuracy: 0.9390\n",
      "Epoch 25/40\n",
      "24/24 [==============================] - 0s 8ms/step - loss: 0.1005 - accuracy: 0.9607 - val_loss: 0.1503 - val_accuracy: 0.9350\n",
      "Epoch 26/40\n",
      "24/24 [==============================] - 0s 8ms/step - loss: 0.1014 - accuracy: 0.9634 - val_loss: 0.1576 - val_accuracy: 0.9350\n",
      "Epoch 27/40\n",
      "24/24 [==============================] - 0s 8ms/step - loss: 0.1058 - accuracy: 0.9607 - val_loss: 0.1618 - val_accuracy: 0.9390\n",
      "Epoch 28/40\n",
      "24/24 [==============================] - 0s 8ms/step - loss: 0.0863 - accuracy: 0.9729 - val_loss: 0.1623 - val_accuracy: 0.9431\n",
      "Epoch 29/40\n",
      "24/24 [==============================] - 0s 8ms/step - loss: 0.0914 - accuracy: 0.9580 - val_loss: 0.1633 - val_accuracy: 0.9431\n",
      "Epoch 30/40\n",
      "24/24 [==============================] - 0s 8ms/step - loss: 0.0908 - accuracy: 0.9675 - val_loss: 0.1545 - val_accuracy: 0.9472\n",
      "Epoch 31/40\n",
      "24/24 [==============================] - 0s 8ms/step - loss: 0.0893 - accuracy: 0.9661 - val_loss: 0.1584 - val_accuracy: 0.9431\n",
      "Epoch 32/40\n",
      "24/24 [==============================] - 0s 8ms/step - loss: 0.1049 - accuracy: 0.9621 - val_loss: 0.1521 - val_accuracy: 0.9390\n",
      "Epoch 33/40\n",
      "24/24 [==============================] - 0s 8ms/step - loss: 0.0853 - accuracy: 0.9702 - val_loss: 0.1442 - val_accuracy: 0.9350\n",
      "Epoch 34/40\n",
      "24/24 [==============================] - 0s 8ms/step - loss: 0.1033 - accuracy: 0.9607 - val_loss: 0.1564 - val_accuracy: 0.9472\n",
      "Epoch 35/40\n",
      "24/24 [==============================] - 0s 8ms/step - loss: 0.1086 - accuracy: 0.9580 - val_loss: 0.1442 - val_accuracy: 0.9390\n",
      "Epoch 36/40\n",
      "24/24 [==============================] - 0s 8ms/step - loss: 0.0947 - accuracy: 0.9566 - val_loss: 0.1477 - val_accuracy: 0.9390\n",
      "Epoch 37/40\n",
      "24/24 [==============================] - 0s 8ms/step - loss: 0.0723 - accuracy: 0.9688 - val_loss: 0.1576 - val_accuracy: 0.9431\n",
      "Epoch 38/40\n",
      "24/24 [==============================] - 0s 8ms/step - loss: 0.0829 - accuracy: 0.9688 - val_loss: 0.1655 - val_accuracy: 0.9390\n",
      "Epoch 39/40\n",
      "24/24 [==============================] - 0s 8ms/step - loss: 0.0911 - accuracy: 0.9661 - val_loss: 0.1660 - val_accuracy: 0.9228\n",
      "Epoch 40/40\n",
      "24/24 [==============================] - 0s 8ms/step - loss: 0.0950 - accuracy: 0.9607 - val_loss: 0.1584 - val_accuracy: 0.9472\n"
     ]
    }
   ],
   "source": [
    "#It trains the model on the training data (X_train and y_train), for 40 epochs and also passing \n",
    "#the test data (X_test and y_test) as validation_data to evaluate performance after each epoch.\n",
    "train = model.fit(xtrain,ytrain, epochs=40, validation_data=(xtest,ytest))"
   ]
  },
  {
   "cell_type": "code",
   "execution_count": 28,
   "id": "0466c1d6",
   "metadata": {},
   "outputs": [
    {
     "data": {
      "image/png": "[encoded data removed]",
      "text/plain": [
       "<Figure size 720x360 with 1 Axes>"
      ]
     },
     "metadata": {
      "needs_background": "light"
     },
     "output_type": "display_data"
    }
   ],
   "source": [
    "fig, ax1 = plt.subplots(figsize= (10, 5))\n",
    "plt.plot(train.history[\"accuracy\"])\n",
    "plt.plot(train.history[\"val_accuracy\"])\n",
    "plt.title(\"Model accuracy\")\n",
    "plt.ylabel(\"Accuracy\")\n",
    "plt.xlabel(\"Epoch\")\n",
    "plt.legend([\"Train\", \"Test\"], loc = \"upper left\")\n",
    "plt.show()"
   ]
  },
  {
   "cell_type": "code",
   "execution_count": 29,
   "id": "6132b441",
   "metadata": {},
   "outputs": [
    {
     "data": {
      "image/png": "[encoded data removed]",
      "text/plain": [
       "<Figure size 720x360 with 1 Axes>"
      ]
     },
     "metadata": {
      "needs_background": "light"
     },
     "output_type": "display_data"
    }
   ],
   "source": [
    "fig, ax1 = plt.subplots(figsize= (10, 5))\n",
    "plt.plot(train.history[\"loss\"])\n",
    "plt.plot(train.history[\"val_loss\"])\n",
    "plt.title(\"Model loss\")\n",
    "plt.ylabel(\"Loss\")\n",
    "plt.xlabel(\"Epoch\")\n",
    "plt.legend([\"Train\", \"Test\"], loc = \"upper left\")\n",
    "plt.show()"
   ]
  },
  {
   "cell_type": "code",
   "execution_count": 30,
   "id": "57360efe",
   "metadata": {
    "scrolled": true
   },
   "outputs": [
    {
     "name": "stdout",
     "output_type": "stream",
     "text": [
      "8/8 [==============================] - 0s 2ms/step\n"
     ]
    }
   ],
   "source": [
    "# Making the Prediction on a test set of data (xtest) and Evaluating the model\n",
    "yPrediction = model.predict(xtest)\n",
    "yPrediction = (yPrediction>0.5)#Converts the predicted probability values into binary values by using a threshold of 0.5."
   ]
  },
  {
   "cell_type": "code",
   "execution_count": 31,
   "id": "88671a12",
   "metadata": {},
   "outputs": [
    {
     "name": "stdout",
     "output_type": "stream",
     "text": [
      "8/8 [==============================] - 0s 2ms/step\n",
      "ROC AUC: 0.981\n"
     ]
    }
   ],
   "source": [
    "from sklearn.metrics import roc_auc_score\n",
    "\n",
    "#It plots the true positive rate (sensitivity) against the false positive rate (1 - specificity) at various classification thresholds.\n",
    "#AUC - ROC ranges in value from 0 to 1, with a larger value indicating better performance. \n",
    "yPredictionProb = model.predict(xtest)[:,0]\n",
    "# Calculate the ROC AUC score\n",
    "rocAUC = roc_auc_score(ytest, yPredictionProb)\n",
    "print(\"ROC AUC: {:.3f}\".format(rocAUC))"
   ]
  },
  {
   "cell_type": "code",
   "execution_count": 32,
   "id": "52e2aa7f",
   "metadata": {},
   "outputs": [
    {
     "data": {
      "image/png": "[encoded data removed]",
      "text/plain": [
       "<Figure size 432x288 with 2 Axes>"
      ]
     },
     "metadata": {
      "needs_background": "light"
     },
     "output_type": "display_data"
    }
   ],
   "source": [
    "# evaluating the accuracy score and confusion matrix\n",
    "# Checking the accuracy\n",
    "import seaborn as sns\n",
    "import matplotlib.pyplot as plt\n",
    "\n",
    "# Plotting the confusion matrix\n",
    "confMatrix = confusion_matrix(ytest, yPrediction)\n",
    "sns.heatmap(confMatrix, annot=True, fmt='d', cmap='Blues')\n",
    "plt.xlabel(\"Predicted Class\")\n",
    "plt.ylabel(\"True Class\")\n",
    "plt.title(\"Confusion Matrix\")\n",
    "plt.show()"
   ]
  },
  {
   "cell_type": "code",
   "execution_count": 33,
   "id": "c24ea4ac",
   "metadata": {},
   "outputs": [
    {
     "name": "stdout",
     "output_type": "stream",
     "text": [
      "Accuracy Score :  0.9471544715447154\n"
     ]
    }
   ],
   "source": [
    "print(\"Accuracy Score : \", accuracy_score(ytest, yPrediction))"
   ]
  },
  {
   "cell_type": "code",
   "execution_count": 34,
   "id": "779e9989",
   "metadata": {},
   "outputs": [
    {
     "name": "stdout",
     "output_type": "stream",
     "text": [
      "8/8 [==============================] - 0s 3ms/step - loss: 0.1584 - accuracy: 0.9472\n"
     ]
    },
    {
     "data": {
      "text/plain": [
       "[0.15844014286994934, 0.9471544623374939]"
      ]
     },
     "execution_count": 34,
     "metadata": {},
     "output_type": "execute_result"
    }
   ],
   "source": [
    "finalAccuracy = model.evaluate(xtest,ytest)\n",
    "finalAccuracy"
   ]
  },
  {
   "cell_type": "code",
   "execution_count": 35,
   "id": "186bc29c",
   "metadata": {},
   "outputs": [],
   "source": [
    "from sklearn.metrics import precision_recall_fscore_support as score"
   ]
  },
  {
   "cell_type": "code",
   "execution_count": 36,
   "id": "5634270e",
   "metadata": {
    "scrolled": false
   },
   "outputs": [
    {
     "name": "stdout",
     "output_type": "stream",
     "text": [
      "Precision: [0.90839695 0.99130435]\n",
      "Recall: [0.99166667 0.9047619 ]\n",
      "Fscore: [0.94820717 0.94605809]\n",
      "Support: [120 126]\n"
     ]
    }
   ],
   "source": [
    "precision, recall, fscore, support = score(ytest, yPrediction)\n",
    "print('Precision: {}'.format(precision))\n",
    "print('Recall: {}'.format(recall))\n",
    "print('Fscore: {}'.format(fscore))\n",
    "print('Support: {}'.format(support))"
   ]
  },
  {
   "cell_type": "markdown",
   "id": "f9fc39c5",
   "metadata": {},
   "source": [
    "The other two methods that we tried and got almost the same results"
   ]
  },
  {
   "cell_type": "markdown",
   "id": "b9c34d24",
   "metadata": {},
   "source": [
    "First one: Before splitting in to Train and test dataset"
   ]
  },
  {
   "cell_type": "code",
   "execution_count": 37,
   "id": "23c1649c",
   "metadata": {},
   "outputs": [],
   "source": [
    "#Using advanced over-sampling technique\n",
    "#from imblearn.over_sampling import ADASYN\n",
    "#sm = ADASYN(random_state=42)\n",
    "#x, y = sm.fit_resample(x, y)"
   ]
  },
  {
   "cell_type": "code",
   "execution_count": 38,
   "id": "c66d310a",
   "metadata": {},
   "outputs": [],
   "source": [
    "# Importing model\n",
    "#model = Sequential()\n",
    "\n",
    "# layers:\n",
    "\n",
    "# 1) First dense layer with 64 neurons, relu activation, and input shape\n",
    "# model.add(Dense(64, activation='relu', input_shape=(xtrain.shape[1],)))\n",
    "\n",
    "# 2) Batch normalization\n",
    "# model.add(BatchNormalization())\n",
    "\n",
    "# 3) Dropout layer with rate of 0.5\n",
    "# model.add(Dropout(0.5))\n",
    "\n",
    "# 4) Second dense layer with 64 neurons, relu activation\n",
    "# model.add(Dense(64, activation='relu'))\n",
    "\n",
    "# 6) Dropout layer with rate of 0.5\n",
    "# model.add(Dropout(0.5))\n",
    "\n",
    "# 7) Output layer with 1 neuron and sigmoid activation\n",
    "# model.add(Dense(1, activation='sigmoid'))"
   ]
  },
  {
   "cell_type": "markdown",
   "id": "8518519f",
   "metadata": {},
   "source": [
    "Second one: Before splitting in to Train and test dataset"
   ]
  },
  {
   "cell_type": "code",
   "execution_count": 39,
   "id": "e81f84f0",
   "metadata": {},
   "outputs": [],
   "source": [
    "# Using advanced over-sampling technique\n",
    "#from imblearn.over_sampling import ADASYN\n",
    "#sm = ADASYN(random_state=42)\n",
    "#x, y = sm.fit_resample(x, y)"
   ]
  },
  {
   "cell_type": "code",
   "execution_count": 40,
   "id": "d14b9e5b",
   "metadata": {},
   "outputs": [],
   "source": [
    "# Importing model\n",
    "# model = Sequential()\n",
    "\n",
    "# layers:\n",
    "\n",
    "# Adding multiple convolutional layers\n",
    "# model.add(Conv1D(64, kernel_size=3, activation='relu', input_shape=(xtrain.shape[1],1)))\n",
    "# model.add(MaxPool1D(pool_size=2))\n",
    "# model.add(Dropout(0.2))\n",
    "# model.add(Conv1D(128, kernel_size=3, activation='relu'))\n",
    "# model.add(MaxPool1D(pool_size=2))\n",
    "# model.add(Dropout(0.2))\n",
    "# model.add(Conv1D(256, kernel_size=3, activation='relu'))\n",
    "# model.add(MaxPool1D(pool_size=2))\n",
    "# model.add(Dropout(0.2))\n",
    "\n",
    "# Flattening the output\n",
    "# model.add(Flatten())\n",
    "\n",
    "# Adding a dense layer\n",
    "# model.add(Dense(128, activation='relu'))\n",
    "\n",
    "# Adding output layer\n",
    "# model.add(Dense(1, activation='sigmoid'))"
   ]
  }
 ],
 "metadata": {
  "kernelspec": {
   "display_name": "Python 3 (ipykernel)",
   "language": "python",
   "name": "python3"
  },
  "language_info": {
   "codemirror_mode": {
    "name": "ipython",
    "version": 3
   },
   "file_extension": ".py",
   "mimetype": "text/x-python",
   "name": "python",
   "nbconvert_exporter": "python",
   "pygments_lexer": "ipython3",
   "version": "3.9.7"
  }
 },
 "nbformat": 4,
 "nbformat_minor": 5
}
